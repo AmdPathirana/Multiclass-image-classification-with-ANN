{
 "cells": [
  {
   "cell_type": "markdown",
   "id": "cb6a49df",
   "metadata": {},
   "source": [
    "# Multiclass-image-classification-with-ANN"
   ]
  },
  {
   "cell_type": "markdown",
   "id": "267601c8",
   "metadata": {},
   "source": [
    "Install Tensorflow"
   ]
  },
  {
   "cell_type": "code",
   "execution_count": 8,
   "id": "5744338f",
   "metadata": {},
   "outputs": [
    {
     "name": "stdout",
     "output_type": "stream",
     "text": [
      "Requirement already satisfied: tensorflow in /Users/amodpathirana/opt/anaconda3/lib/python3.7/site-packages (2.0.0)\n",
      "Requirement already satisfied: keras-preprocessing>=1.0.5 in /Users/amodpathirana/opt/anaconda3/lib/python3.7/site-packages (from tensorflow) (1.1.2)\n",
      "Requirement already satisfied: wheel>=0.26 in /Users/amodpathirana/opt/anaconda3/lib/python3.7/site-packages (from tensorflow) (0.38.4)\n",
      "Requirement already satisfied: opt-einsum>=2.3.2 in /Users/amodpathirana/opt/anaconda3/lib/python3.7/site-packages (from tensorflow) (3.3.0)\n",
      "Requirement already satisfied: gast==0.2.2 in /Users/amodpathirana/opt/anaconda3/lib/python3.7/site-packages (from tensorflow) (0.2.2)\n",
      "Requirement already satisfied: google-pasta>=0.1.6 in /Users/amodpathirana/opt/anaconda3/lib/python3.7/site-packages (from tensorflow) (0.2.0)\n",
      "Requirement already satisfied: keras-applications>=1.0.8 in /Users/amodpathirana/opt/anaconda3/lib/python3.7/site-packages (from tensorflow) (1.0.8)\n",
      "Requirement already satisfied: protobuf>=3.6.1 in /Users/amodpathirana/opt/anaconda3/lib/python3.7/site-packages (from tensorflow) (3.19.1)\n",
      "Requirement already satisfied: absl-py>=0.7.0 in /Users/amodpathirana/opt/anaconda3/lib/python3.7/site-packages (from tensorflow) (1.3.0)\n",
      "Requirement already satisfied: wrapt>=1.11.1 in /Users/amodpathirana/opt/anaconda3/lib/python3.7/site-packages (from tensorflow) (1.12.1)\n",
      "Requirement already satisfied: six>=1.10.0 in /Users/amodpathirana/opt/anaconda3/lib/python3.7/site-packages (from tensorflow) (1.12.0)\n",
      "Requirement already satisfied: grpcio>=1.8.6 in /Users/amodpathirana/opt/anaconda3/lib/python3.7/site-packages (from tensorflow) (1.42.0)\n",
      "Requirement already satisfied: astor>=0.6.0 in /Users/amodpathirana/opt/anaconda3/lib/python3.7/site-packages (from tensorflow) (0.8.1)\n",
      "Requirement already satisfied: termcolor>=1.1.0 in /Users/amodpathirana/opt/anaconda3/lib/python3.7/site-packages (from tensorflow) (2.1.0)\n",
      "Requirement already satisfied: numpy<2.0,>=1.16.0 in /Users/amodpathirana/opt/anaconda3/lib/python3.7/site-packages (from tensorflow) (1.21.5)\n",
      "Requirement already satisfied: tensorboard<2.1.0,>=2.0.0 in /Users/amodpathirana/opt/anaconda3/lib/python3.7/site-packages (from tensorflow) (2.0.0)\n",
      "Requirement already satisfied: tensorflow-estimator<2.1.0,>=2.0.0 in /Users/amodpathirana/opt/anaconda3/lib/python3.7/site-packages (from tensorflow) (2.0.0)\n",
      "Requirement already satisfied: h5py in /Users/amodpathirana/opt/anaconda3/lib/python3.7/site-packages (from keras-applications>=1.0.8->tensorflow) (2.10.0)\n",
      "Requirement already satisfied: setuptools>=41.0.0 in /Users/amodpathirana/opt/anaconda3/lib/python3.7/site-packages (from tensorboard<2.1.0,>=2.0.0->tensorflow) (65.6.0)\n",
      "Requirement already satisfied: markdown>=2.6.8 in /Users/amodpathirana/opt/anaconda3/lib/python3.7/site-packages (from tensorboard<2.1.0,>=2.0.0->tensorflow) (3.3.4)\n",
      "Requirement already satisfied: werkzeug>=0.11.15 in /Users/amodpathirana/opt/anaconda3/lib/python3.7/site-packages (from tensorboard<2.1.0,>=2.0.0->tensorflow) (2.0.3)\n",
      "Requirement already satisfied: importlib-metadata in /Users/amodpathirana/opt/anaconda3/lib/python3.7/site-packages (from markdown>=2.6.8->tensorboard<2.1.0,>=2.0.0->tensorflow) (4.11.3)\n",
      "Requirement already satisfied: zipp>=0.5 in /Users/amodpathirana/opt/anaconda3/lib/python3.7/site-packages (from importlib-metadata->markdown>=2.6.8->tensorboard<2.1.0,>=2.0.0->tensorflow) (3.7.0)\n",
      "Requirement already satisfied: typing-extensions>=3.6.4 in /Users/amodpathirana/opt/anaconda3/lib/python3.7/site-packages (from importlib-metadata->markdown>=2.6.8->tensorboard<2.1.0,>=2.0.0->tensorflow) (4.1.1)\n",
      "Note: you may need to restart the kernel to use updated packages.\n"
     ]
    }
   ],
   "source": [
    "pip install tensorflow"
   ]
  },
  {
   "cell_type": "code",
   "execution_count": 9,
   "id": "c2f5a838",
   "metadata": {},
   "outputs": [
    {
     "name": "stdout",
     "output_type": "stream",
     "text": [
      "2.0.0\n"
     ]
    }
   ],
   "source": [
    "import numpy as np\n",
    "import pandas as pd \n",
    "import matplotlib.pyplot as plt \n",
    "import tensorflow as tf\n",
    "print(tf.__version__)"
   ]
  },
  {
   "cell_type": "markdown",
   "id": "b02ea177",
   "metadata": {},
   "source": [
    "Data preprocessing "
   ]
  },
  {
   "cell_type": "code",
   "execution_count": 10,
   "id": "894c629c",
   "metadata": {},
   "outputs": [],
   "source": [
    "#import datasets\n",
    "from tensorflow.keras.datasets import fashion_mnist"
   ]
  },
  {
   "cell_type": "code",
   "execution_count": 11,
   "id": "1cc06f89",
   "metadata": {},
   "outputs": [],
   "source": [
    "#loading datasets\n",
    "(x_train, y_train), (x_test, y_test) = fashion_mnist.load_data()  "
   ]
  },
  {
   "cell_type": "code",
   "execution_count": 12,
   "id": "befc64fb",
   "metadata": {},
   "outputs": [
    {
     "data": {
      "text/plain": [
       "((60000, 28, 28), (10000, 28, 28))"
      ]
     },
     "execution_count": 12,
     "metadata": {},
     "output_type": "execute_result"
    }
   ],
   "source": [
    "x_train.shape, x_test.shape"
   ]
  },
  {
   "cell_type": "code",
   "execution_count": 13,
   "id": "db3bd202",
   "metadata": {},
   "outputs": [
    {
     "data": {
      "text/plain": [
       "((60000,), (10000,))"
      ]
     },
     "execution_count": 13,
     "metadata": {},
     "output_type": "execute_result"
    }
   ],
   "source": [
    "y_train.shape, y_test.shape"
   ]
  },
  {
   "cell_type": "code",
   "execution_count": 14,
   "id": "e7c057ed",
   "metadata": {},
   "outputs": [
    {
     "data": {
      "text/plain": [
       "array([[  0,   0,   0,   0,   0,   0,   0,   0,   0,   0,   0,   0,   0,\n",
       "          0,   0,   0,   0,  26,   0,   0,   0,   0,   0,   0,   0,   0,\n",
       "          0,   0],\n",
       "       [  0,   0,   0,   0,   0,   0,   0,   0, 189, 206, 187,  32,   0,\n",
       "          0,   0,  26, 217, 226, 196,  11,   0,   0,   0,   0,   0,   0,\n",
       "          0,   0],\n",
       "       [  0,   0,   0,   0,   0,   0,   0,   0, 192, 227, 234, 243, 230,\n",
       "        147, 239, 242, 234, 218, 209,   0,   0,   0,   0,   0,   0,   0,\n",
       "          0,   0],\n",
       "       [  0,   0,   0,   0,   0,   0,   0,   0, 173, 225, 215, 233, 254,\n",
       "          0, 194, 240, 217, 221, 190,   0,   0,   0,   0,   0,   0,   0,\n",
       "          0,   0],\n",
       "       [  0,   0,   0,   0,   0,   0,   0,   0, 139, 229, 212, 226, 255,\n",
       "          0, 162, 255, 213, 226, 200,   0,   0,   0,   0,   0,   0,   0,\n",
       "          0,   0],\n",
       "       [  0,   0,   0,   0,   0,   0,   0,   0,  98, 232, 211, 215, 249,\n",
       "         46, 162, 246, 214, 230, 186,   0,   0,   0,   0,   0,   0,   0,\n",
       "          0,   0],\n",
       "       [  0,   0,   0,   0,   0,   0,   0,   0,  70, 228, 213, 220, 224,\n",
       "        252, 239, 219, 217, 231, 171,   0,   0,   0,   0,   0,   0,   0,\n",
       "          0,   0],\n",
       "       [  0,   0,   0,   0,   0,   0,   0,   0,  45, 222, 214, 218, 216,\n",
       "        210, 215, 217, 202, 224, 172,   0,   0,   0,   0,   0,   0,   0,\n",
       "          0,   0],\n",
       "       [  0,   0,   0,   0,   0,   0,   0,   0,  24, 254, 214, 210, 211,\n",
       "        214, 215, 212, 203, 221, 167,   0,   0,   0,   0,   0,   0,   0,\n",
       "          0,   0],\n",
       "       [  0,   0,   0,   0,   0,   0,   0,   0,   0, 254, 216, 215, 217,\n",
       "        217, 216, 216, 206, 225, 150,   0,   0,   0,   0,   0,   0,   0,\n",
       "          0,   0],\n",
       "       [  0,   0,   0,   0,   0,   0,   0,   0,   0, 247, 216, 214, 217,\n",
       "        216, 214, 212, 203, 226, 136,   0,   0,   0,   0,   0,   0,   0,\n",
       "          0,   0],\n",
       "       [  0,   0,   0,   0,   0,   0,   0,   0,   0, 245, 216, 214, 216,\n",
       "        217, 215, 211, 204, 225, 125,   0,   0,   0,   0,   0,   0,   0,\n",
       "          0,   0],\n",
       "       [  0,   0,   0,   0,   0,   0,   0,   0,   0, 247, 216, 214, 217,\n",
       "        220, 217, 213, 203, 222, 147,   0,   0,   0,   0,   0,   0,   0,\n",
       "          0,   0],\n",
       "       [  0,   0,   0,   0,   0,   0,   0,   0,   0, 248, 216, 215, 218,\n",
       "        222, 216, 214, 207, 218, 179,   0,   0,   0,   0,   0,   0,   0,\n",
       "          0,   0],\n",
       "       [  0,   0,   0,   0,   0,   0,   0,   0,   0, 249, 216, 217, 219,\n",
       "        222, 217, 214, 210, 215, 211,   0,   0,   0,   0,   0,   0,   0,\n",
       "          0,   0],\n",
       "       [  0,   0,   0,   0,   0,   0,   0,   0,  38, 255, 214, 218, 219,\n",
       "        224, 218, 215, 211, 211, 231,   0,   0,   0,   0,   0,   0,   0,\n",
       "          0,   0],\n",
       "       [  0,   0,   0,   0,   0,   0,   0,   0,  79, 227, 209, 219, 219,\n",
       "        227, 219, 215, 213, 206, 254,  58,   0,   0,   0,   0,   0,   0,\n",
       "          0,   0],\n",
       "       [  0,   0,   0,   0,   0,   0,   0,   0, 146, 226, 211, 220, 219,\n",
       "        228, 218, 215, 216, 205, 219, 163,   0,   0,   0,   0,   0,   0,\n",
       "          0,   0],\n",
       "       [  0,   0,   0,   0,   0,   0,   0,   0, 202, 221, 214, 221, 219,\n",
       "        231, 218, 215, 218, 213, 212, 220,   0,   0,   0,   0,   0,   0,\n",
       "          0,   0],\n",
       "       [  0,   0,   0,   0,   0,   0,   0,   0, 234, 217, 216, 220, 219,\n",
       "        234, 217, 215, 218, 216, 223, 247,   7,   0,   0,   0,   0,   0,\n",
       "          0,   0],\n",
       "       [  0,   0,   0,   0,   0,   0,   0,  17, 254, 212, 219, 219, 220,\n",
       "        233, 214, 216, 219, 222, 153, 238,  58,   0,   0,   0,   0,   0,\n",
       "          0,   0],\n",
       "       [  0,   0,   0,   0,   0,   0,   0,  66, 255, 208, 220, 219, 222,\n",
       "        241, 220, 218, 218, 218, 192, 242,  99,   0,   0,   0,   0,   0,\n",
       "          0,   0],\n",
       "       [  0,   0,   0,   0,   0,   0,   0, 142, 235, 203, 218, 216, 231,\n",
       "        242, 225, 233, 219, 214, 216, 238, 144,   0,   0,   0,   0,   0,\n",
       "          0,   0],\n",
       "       [  0,   0,   0,   0,   0,   0,   0, 177, 248, 227, 229, 211, 255,\n",
       "         76,   0, 247, 243, 230, 230, 249, 187,   0,   0,   0,   0,   0,\n",
       "          0,   0],\n",
       "       [  0,   0,   0,   0,   0,   0,   0, 101, 241, 228, 228, 220, 255,\n",
       "         64,   0, 243, 237, 230, 227, 241, 142,   0,   0,   0,   0,   0,\n",
       "          0,   0],\n",
       "       [  0,   0,   0,   0,   0,   0,   0,   0, 255, 242, 222, 218, 255,\n",
       "         62,   0, 223, 238, 225, 238, 255,  31,   0,   0,   0,   0,   0,\n",
       "          0,   0],\n",
       "       [  0,   0,   0,   0,   0,   0,   0,   0,  45, 255, 242, 235, 255,\n",
       "         84,   0, 246, 255, 242, 255,  70,   0,   0,   0,   0,   0,   0,\n",
       "          0,   0],\n",
       "       [  0,   0,   0,   0,   0,   0,   0,   0,   0,   0,  61, 102, 168,\n",
       "         25,   0, 139, 161,  74,   0,   0,   0,   0,   0,   0,   0,   0,\n",
       "          0,   0]], dtype=uint8)"
      ]
     },
     "execution_count": 14,
     "metadata": {},
     "output_type": "execute_result"
    }
   ],
   "source": [
    "#check the image pixel values (here for the conviniant it uses only the image (4))\n",
    "x_train[4]"
   ]
  },
  {
   "cell_type": "code",
   "execution_count": 15,
   "id": "33828643",
   "metadata": {},
   "outputs": [
    {
     "data": {
      "text/plain": [
       "(0, 255)"
      ]
     },
     "execution_count": 15,
     "metadata": {},
     "output_type": "execute_result"
    }
   ],
   "source": [
    "#getting the lowest and the highest pixel values \n",
    "np.min(x_train), np.max(x_train)"
   ]
  },
  {
   "cell_type": "code",
   "execution_count": 16,
   "id": "d12fec8e",
   "metadata": {},
   "outputs": [
    {
     "data": {
      "text/plain": [
       "(0, 9)"
      ]
     },
     "execution_count": 16,
     "metadata": {},
     "output_type": "execute_result"
    }
   ],
   "source": [
    "#getting the highest and the lowest lable (class) values\n",
    "np.min(y_train), np.max(y_test)"
   ]
  },
  {
   "cell_type": "code",
   "execution_count": 17,
   "id": "f48c89d8",
   "metadata": {},
   "outputs": [
    {
     "name": "stdout",
     "output_type": "stream",
     "text": [
      "['0 Top/T-shirt', '1 Trouser', '2 Pullover', '3 Dress', '4 Coat', '5 Sanal', '6 Shirt', '7 Sneaker', '8 Bag', '9 Ankle boot']\n"
     ]
    }
   ],
   "source": [
    "#check class names \n",
    "class_names = ['0 Top/T-shirt','1 Trouser','2 Pullover','3 Dress','4 Coat','5 Sanal','6 Shirt','7 Sneaker','8 Bag', '9 Ankle boot']\n",
    "print(class_names)"
   ]
  },
  {
   "cell_type": "code",
   "execution_count": 18,
   "id": "44a6a4f4",
   "metadata": {},
   "outputs": [
    {
     "data": {
      "text/plain": [
       "<matplotlib.image.AxesImage at 0x7fdf5cc8d190>"
      ]
     },
     "execution_count": 18,
     "metadata": {},
     "output_type": "execute_result"
    },
    {
     "data": {
      "image/png": "[encoded data removed]",
      "text/plain": [
       "<Figure size 432x288 with 1 Axes>"
      ]
     },
     "metadata": {
      "needs_background": "light"
     },
     "output_type": "display_data"
    }
   ],
   "source": [
    "# data exploration \n",
    "plt.figure()\n",
    "plt.imshow(x_train[4])"
   ]
  },
  {
   "cell_type": "code",
   "execution_count": 19,
   "id": "91aaa9c6",
   "metadata": {},
   "outputs": [
    {
     "name": "stdout",
     "output_type": "stream",
     "text": [
      "0\n"
     ]
    }
   ],
   "source": [
    "print(y_train[4])"
   ]
  },
  {
   "cell_type": "code",
   "execution_count": null,
   "id": "2a0bf385",
   "metadata": {},
   "outputs": [],
   "source": []
  }
 ],
 "metadata": {
  "kernelspec": {
   "display_name": "Python 3 (ipykernel)",
   "language": "python",
   "name": "python3"
  },
  "language_info": {
   "codemirror_mode": {
    "name": "ipython",
    "version": 3
   },
   "file_extension": ".py",
   "mimetype": "text/x-python",
   "name": "python",
   "nbconvert_exporter": "python",
   "pygments_lexer": "ipython3",
   "version": "3.7.13"
  }
 },
 "nbformat": 4,
 "nbformat_minor": 5
}
